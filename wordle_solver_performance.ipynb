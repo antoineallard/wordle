{
 "cells": [
  {
   "cell_type": "code",
   "execution_count": 111,
   "metadata": {},
   "outputs": [],
   "source": [
    "import copy\n",
    "import pandas\n",
    "from wordle_solver import wordle_solver"
   ]
  },
  {
   "cell_type": "code",
   "execution_count": 96,
   "metadata": {},
   "outputs": [],
   "source": [
    "def explore_paths(guess, target, ws):\n",
    "    sequence = []\n",
    "    paths = []\n",
    "    potential_answers = []\n",
    "    number_words = [len(ws.words)]\n",
    "    next_step(guess, target, ws, sequence, paths, number_words, potential_answers)\n",
    "    return potential_answers\n",
    "\n",
    "def next_step(guess, target, ws, sequence, paths, number_words, potential_answers):\n",
    "    if guess == target:\n",
    "        sequence.append(guess)\n",
    "        paths.append(sequence)\n",
    "        #if number_words[-1] > 1:\n",
    "        #    number_words.append(1)\n",
    "        potential_answers.append(number_words)\n",
    "    else:\n",
    "        ws.update_information(word=guess, result=ws.validate_word(guess, target))\n",
    "        df = ws.get_compatible_word_scores()\n",
    "        next_guesses = df[df.SumScore == df.SumScore.min()].index.to_list()\n",
    "        sequence.append(guess)\n",
    "        number_words.append(len(df))\n",
    "        for word in next_guesses:\n",
    "            next_step(word, target, copy.deepcopy(ws), sequence.copy(), paths, number_words.copy(), potential_answers)"
   ]
  },
  {
   "cell_type": "code",
   "execution_count": 115,
   "metadata": {},
   "outputs": [
    {
     "name": "stdout",
     "output_type": "stream",
     "text": [
      "rebus\n",
      "boost\n",
      "truss\n",
      "siege\n",
      "tiger\n",
      "banal\n",
      "slump\n",
      "crank\n",
      "gorge\n",
      "query\n",
      "drink\n",
      "favor\n",
      "abbey\n",
      "tangy\n",
      "panic\n",
      "solar\n",
      "shire\n"
     ]
    }
   ],
   "source": [
    "first_guess = 'raise'\n",
    "# targets = wordle_solver().words\n",
    "targets = ['rebus', 'boost', 'truss', 'siege', 'tiger', 'banal', 'slump', 'crank', 'gorge', 'query', 'drink', 'favor', 'abbey', 'tangy', 'panic', 'solar', 'shire']\n",
    "\n",
    "potential_answers = []\n",
    "for target in targets:\n",
    "    print(target)\n",
    "    ws = wordle_solver()\n",
    "    new_potential_answers = explore_paths(first_guess, target, ws)\n",
    "    for new_potential_answer in new_potential_answers: \n",
    "        potential_answers.append(new_potential_answer)\n",
    "df = pandas.DataFrame(potential_answers)"
   ]
  },
  {
   "cell_type": "code",
   "execution_count": null,
   "metadata": {},
   "outputs": [],
   "source": []
  }
 ],
 "metadata": {
  "kernelspec": {
   "display_name": "Python 3",
   "language": "python",
   "name": "python3"
  },
  "language_info": {
   "codemirror_mode": {
    "name": "ipython",
    "version": 3
   },
   "file_extension": ".py",
   "mimetype": "text/x-python",
   "name": "python",
   "nbconvert_exporter": "python",
   "pygments_lexer": "ipython3",
   "version": "3.9.0"
  }
 },
 "nbformat": 4,
 "nbformat_minor": 4
}
