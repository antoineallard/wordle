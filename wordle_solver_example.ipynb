{
 "cells": [
  {
   "cell_type": "markdown",
   "metadata": {},
   "source": [
    "## Acquiring the list of all possible words\n",
    "\n",
    "The list of all possible words was downloaded from the source code of the [Wordle](https://www.powerlanguage.co.uk/wordle/) webpage on Jan. 10th 2022. Exerpt from the `wordle_solver.py`:\n",
    "```python\n",
    "def load_possible_words(self, fname='data/main.814b2d17.js', start='Ta=', stop=',Ca='):\n",
    "    with open(fname, 'r') as file:\n",
    "        line = file.readline()\n",
    "        line = line.split(start)[1].split(stop)[0]\n",
    "        self.words = json.loads(line)\n",
    "```"
   ]
  },
  {
   "cell_type": "markdown",
   "metadata": {},
   "source": [
    "## Ranking words\n",
    "\n",
    "Our approach ranks words based on their potential to reduce the number of possible answers at the _next_ guess.  The score of word $w$ after the first $i$ guesses, noted $S(w|W_i)$, is computed as the average number of possible answers assuming that every word is equally likely to be the answer\n",
    "$$\n",
    "S(w|W_i) = \\frac{1}{|W_i|} \\sum_{t \\in W_i} \\sum_{n \\in W_i} I(n|w,t)\n",
    "$$\n",
    "where\n",
    "- $W_i$: set of words compatible with the knkowledge gained after the first $i$ guesses ($W_0$ is the set of _all_ words).\n",
    "- $I(n|t,w)$: indicator function returning 1 if word $n$ is a possible answer taking into account the knowledge acquired after trying word $w$ and given that word $t$ is the answer, and 0 otherwise.  In other words, suppose that word $t$ is the answer, then $\\sum_{n \\in W_i} I(n|w,t)$ is the number of compatible words with the knowledge gained after guessing word $w$.\n",
    "\n",
    "**Note**: Our approach assumes that every word is equally likely to be the answer.  A [blogpost](http://estebanmoro.org/post/2022-01-10-wordle/) by Esteban Moro suggests that a nonuniform prior should improve the performance of the approach.\n",
    "\n",
    "**Note**: Our approach is similar to the __ used by [Laurent Lessard](https://github.com/LaurentLessard/wordlesolver)."
   ]
  },
  {
   "cell_type": "markdown",
   "metadata": {},
   "source": [
    "## A priori score for all words\n",
    "\n",
    "Computing the score of all words without prior knowledge takes quite some time (and stays the same as long as the list of possible words is not modified), so we did it in advance and saved the results into the file `data/a_priori_scores.txt`."
   ]
  },
  {
   "cell_type": "code",
   "execution_count": 1,
   "metadata": {},
   "outputs": [
    {
     "data": {
      "text/html": [
       "<div>\n",
       "<style scoped>\n",
       "    .dataframe tbody tr th:only-of-type {\n",
       "        vertical-align: middle;\n",
       "    }\n",
       "\n",
       "    .dataframe tbody tr th {\n",
       "        vertical-align: top;\n",
       "    }\n",
       "\n",
       "    .dataframe thead th {\n",
       "        text-align: right;\n",
       "    }\n",
       "</style>\n",
       "<table border=\"1\" class=\"dataframe\">\n",
       "  <thead>\n",
       "    <tr style=\"text-align: right;\">\n",
       "      <th></th>\n",
       "      <th>SumScore</th>\n",
       "      <th>AvgScore</th>\n",
       "    </tr>\n",
       "    <tr>\n",
       "      <th>Word</th>\n",
       "      <th></th>\n",
       "      <th></th>\n",
       "    </tr>\n",
       "  </thead>\n",
       "  <tbody>\n",
       "    <tr>\n",
       "      <th>raise</th>\n",
       "      <td>141217</td>\n",
       "      <td>61.001</td>\n",
       "    </tr>\n",
       "    <tr>\n",
       "      <th>arise</th>\n",
       "      <td>147525</td>\n",
       "      <td>63.726</td>\n",
       "    </tr>\n",
       "    <tr>\n",
       "      <th>irate</th>\n",
       "      <td>147649</td>\n",
       "      <td>63.779</td>\n",
       "    </tr>\n",
       "    <tr>\n",
       "      <th>arose</th>\n",
       "      <td>152839</td>\n",
       "      <td>66.021</td>\n",
       "    </tr>\n",
       "    <tr>\n",
       "      <th>alter</th>\n",
       "      <td>162031</td>\n",
       "      <td>69.992</td>\n",
       "    </tr>\n",
       "    <tr>\n",
       "      <th>saner</th>\n",
       "      <td>162341</td>\n",
       "      <td>70.126</td>\n",
       "    </tr>\n",
       "    <tr>\n",
       "      <th>later</th>\n",
       "      <td>162567</td>\n",
       "      <td>70.223</td>\n",
       "    </tr>\n",
       "    <tr>\n",
       "      <th>snare</th>\n",
       "      <td>164591</td>\n",
       "      <td>71.098</td>\n",
       "    </tr>\n",
       "    <tr>\n",
       "      <th>stare</th>\n",
       "      <td>165047</td>\n",
       "      <td>71.295</td>\n",
       "    </tr>\n",
       "  </tbody>\n",
       "</table>\n",
       "</div>"
      ],
      "text/plain": [
       "       SumScore  AvgScore\n",
       "Word                     \n",
       "raise    141217    61.001\n",
       "arise    147525    63.726\n",
       "irate    147649    63.779\n",
       "arose    152839    66.021\n",
       "alter    162031    69.992\n",
       "saner    162341    70.126\n",
       "later    162567    70.223\n",
       "snare    164591    71.098\n",
       "stare    165047    71.295"
      ]
     },
     "execution_count": 1,
     "metadata": {},
     "output_type": "execute_result"
    }
   ],
   "source": [
    "import pandas\n",
    "with open('data/a_priori_scores.txt', 'r') as f:\n",
    "    header = f.readline().replace('#', ' ').split()\n",
    "    df = pandas.read_table(f, names=header, comment='#', delimiter=r\"\\s+\")\n",
    "    df.set_index('Word', inplace=True)\n",
    "df.iloc[:9]"
   ]
  },
  {
   "cell_type": "markdown",
   "metadata": {},
   "source": [
    "## Example\n",
    "\n",
    "This example shows how to use the solver class to help you solve Wordle puzzles. This example uses the Wordle puzzle from Jan. 16th, 2022\n",
    "\n",
    "First, we need to load and initialize a solver object."
   ]
  },
  {
   "cell_type": "code",
   "execution_count": 2,
   "metadata": {},
   "outputs": [],
   "source": [
    "from wordle_solver import wordle_solver\n",
    "ws = wordle_solver()"
   ]
  },
  {
   "cell_type": "markdown",
   "metadata": {},
   "source": [
    "### First guess: using the word with the lowest a priori score\n",
    "\n",
    "A sound strategy is to start the word which will, on average, reduce the number of compatible words the most, based on the knowledge Wordle provides. As seen above, a promising candidate is `raise`.\n",
    "\n",
    "The knowledge provided by Wordle is inputted into the solver object via the `result` keyword using the code\n",
    "- `'g'`: correct letter (green)\n",
    "- `'y'`: misplaced letter (yellow)\n",
    "- `'b'`: incorrect letter (gray/dark)"
   ]
  },
  {
   "cell_type": "code",
   "execution_count": 3,
   "metadata": {},
   "outputs": [
    {
     "data": {
      "text/html": [
       "<div>\n",
       "<style scoped>\n",
       "    .dataframe tbody tr th:only-of-type {\n",
       "        vertical-align: middle;\n",
       "    }\n",
       "\n",
       "    .dataframe tbody tr th {\n",
       "        vertical-align: top;\n",
       "    }\n",
       "\n",
       "    .dataframe thead th {\n",
       "        text-align: right;\n",
       "    }\n",
       "</style>\n",
       "<table border=\"1\" class=\"dataframe\">\n",
       "  <thead>\n",
       "    <tr style=\"text-align: right;\">\n",
       "      <th></th>\n",
       "      <th>SumScore</th>\n",
       "      <th>AvgScore</th>\n",
       "    </tr>\n",
       "    <tr>\n",
       "      <th>Word</th>\n",
       "      <th></th>\n",
       "      <th></th>\n",
       "    </tr>\n",
       "  </thead>\n",
       "  <tbody>\n",
       "    <tr>\n",
       "      <th>strap</th>\n",
       "      <td>61</td>\n",
       "      <td>2.904762</td>\n",
       "    </tr>\n",
       "    <tr>\n",
       "      <th>scrap</th>\n",
       "      <td>73</td>\n",
       "      <td>3.476190</td>\n",
       "    </tr>\n",
       "    <tr>\n",
       "      <th>stray</th>\n",
       "      <td>75</td>\n",
       "      <td>3.571429</td>\n",
       "    </tr>\n",
       "    <tr>\n",
       "      <th>straw</th>\n",
       "      <td>79</td>\n",
       "      <td>3.761905</td>\n",
       "    </tr>\n",
       "    <tr>\n",
       "      <th>scram</th>\n",
       "      <td>83</td>\n",
       "      <td>3.952381</td>\n",
       "    </tr>\n",
       "  </tbody>\n",
       "</table>\n",
       "</div>"
      ],
      "text/plain": [
       "       SumScore  AvgScore\n",
       "Word                     \n",
       "strap        61  2.904762\n",
       "scrap        73  3.476190\n",
       "stray        75  3.571429\n",
       "straw        79  3.761905\n",
       "scram        83  3.952381"
      ]
     },
     "execution_count": 3,
     "metadata": {},
     "output_type": "execute_result"
    }
   ],
   "source": [
    "ws.update_information(word='raise', result='yybyb')\n",
    "ws.get_compatible_word_scores().iloc[:5]"
   ]
  },
  {
   "cell_type": "markdown",
   "metadata": {},
   "source": [
    "### Second guess: using the word with the lowest score based newly aquired knowledge\n",
    "\n",
    "The word which will, on average, reduce the number of compatible words the most is `strap`, which we pick as our second guess."
   ]
  },
  {
   "cell_type": "code",
   "execution_count": 4,
   "metadata": {},
   "outputs": [
    {
     "data": {
      "text/html": [
       "<div>\n",
       "<style scoped>\n",
       "    .dataframe tbody tr th:only-of-type {\n",
       "        vertical-align: middle;\n",
       "    }\n",
       "\n",
       "    .dataframe tbody tr th {\n",
       "        vertical-align: top;\n",
       "    }\n",
       "\n",
       "    .dataframe thead th {\n",
       "        text-align: right;\n",
       "    }\n",
       "</style>\n",
       "<table border=\"1\" class=\"dataframe\">\n",
       "  <thead>\n",
       "    <tr style=\"text-align: right;\">\n",
       "      <th></th>\n",
       "      <th>SumScore</th>\n",
       "      <th>AvgScore</th>\n",
       "    </tr>\n",
       "    <tr>\n",
       "      <th>Word</th>\n",
       "      <th></th>\n",
       "      <th></th>\n",
       "    </tr>\n",
       "  </thead>\n",
       "  <tbody>\n",
       "    <tr>\n",
       "      <th>solar</th>\n",
       "      <td>3</td>\n",
       "      <td>1.000000</td>\n",
       "    </tr>\n",
       "    <tr>\n",
       "      <th>sonar</th>\n",
       "      <td>3</td>\n",
       "      <td>1.000000</td>\n",
       "    </tr>\n",
       "    <tr>\n",
       "      <th>sugar</th>\n",
       "      <td>5</td>\n",
       "      <td>1.666667</td>\n",
       "    </tr>\n",
       "  </tbody>\n",
       "</table>\n",
       "</div>"
      ],
      "text/plain": [
       "       SumScore  AvgScore\n",
       "Word                     \n",
       "solar         3  1.000000\n",
       "sonar         3  1.000000\n",
       "sugar         5  1.666667"
      ]
     },
     "execution_count": 4,
     "metadata": {},
     "output_type": "execute_result"
    }
   ],
   "source": [
    "ws.update_information(word='strap', result='gbygb')\n",
    "ws.get_compatible_word_scores()"
   ]
  },
  {
   "cell_type": "markdown",
   "metadata": {},
   "source": [
    "### Third guess: just got lucky\n",
    "\n",
    "Now it's just a matter of gut feeling, and we've been lucky this time."
   ]
  },
  {
   "cell_type": "code",
   "execution_count": 5,
   "metadata": {},
   "outputs": [
    {
     "data": {
      "text/html": [
       "<div>\n",
       "<style scoped>\n",
       "    .dataframe tbody tr th:only-of-type {\n",
       "        vertical-align: middle;\n",
       "    }\n",
       "\n",
       "    .dataframe tbody tr th {\n",
       "        vertical-align: top;\n",
       "    }\n",
       "\n",
       "    .dataframe thead th {\n",
       "        text-align: right;\n",
       "    }\n",
       "</style>\n",
       "<table border=\"1\" class=\"dataframe\">\n",
       "  <thead>\n",
       "    <tr style=\"text-align: right;\">\n",
       "      <th></th>\n",
       "      <th>SumScore</th>\n",
       "      <th>AvgScore</th>\n",
       "    </tr>\n",
       "    <tr>\n",
       "      <th>Word</th>\n",
       "      <th></th>\n",
       "      <th></th>\n",
       "    </tr>\n",
       "  </thead>\n",
       "  <tbody>\n",
       "    <tr>\n",
       "      <th>solar</th>\n",
       "      <td>1</td>\n",
       "      <td>1.0</td>\n",
       "    </tr>\n",
       "  </tbody>\n",
       "</table>\n",
       "</div>"
      ],
      "text/plain": [
       "       SumScore  AvgScore\n",
       "Word                     \n",
       "solar         1       1.0"
      ]
     },
     "execution_count": 5,
     "metadata": {},
     "output_type": "execute_result"
    }
   ],
   "source": [
    "ws.update_information(word='solar', result='ggggg')\n",
    "ws.get_compatible_word_scores()"
   ]
  },
  {
   "cell_type": "markdown",
   "metadata": {},
   "source": [
    "Wordle 211 3/6<br>\n",
    "🟨🟨⬜🟨⬜<br>\n",
    "🟩⬜🟨🟩⬜<br>\n",
    "🟩🟩🟩🟩🟩"
   ]
  },
  {
   "cell_type": "code",
   "execution_count": null,
   "metadata": {},
   "outputs": [],
   "source": []
  }
 ],
 "metadata": {
  "kernelspec": {
   "display_name": "Python 3",
   "language": "python",
   "name": "python3"
  },
  "language_info": {
   "codemirror_mode": {
    "name": "ipython",
    "version": 3
   },
   "file_extension": ".py",
   "mimetype": "text/x-python",
   "name": "python",
   "nbconvert_exporter": "python",
   "pygments_lexer": "ipython3",
   "version": "3.9.0"
  }
 },
 "nbformat": 4,
 "nbformat_minor": 4
}
